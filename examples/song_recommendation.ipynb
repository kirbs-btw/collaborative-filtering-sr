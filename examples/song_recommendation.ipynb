{
 "cells": [
  {
   "cell_type": "code",
   "execution_count": 4,
   "id": "54fa8681",
   "metadata": {},
   "outputs": [],
   "source": [
    "import sys\n",
    "import os\n",
    "\n",
    "sys.path.append(os.path.abspath(\"..\"))\n",
    "\n",
    "from collab_filtering import Model"
   ]
  },
  {
   "cell_type": "code",
   "execution_count": 6,
   "id": "b289b13a",
   "metadata": {},
   "outputs": [],
   "source": [
    "exp_data = [\n",
    "    [\"a\", \"b\", \"c\"],\n",
    "    [\"d\", \"e\"],\n",
    "    [\"d\", \"e\", \"f\"]\n",
    "    ]\n",
    "\n",
    "new_data = [\"a\", \"b\"]\n",
    "\n",
    "model = Model(exp_data)"
   ]
  },
  {
   "cell_type": "code",
   "execution_count": 8,
   "id": "20d77157",
   "metadata": {},
   "outputs": [
    {
     "data": {
      "text/plain": [
       "c    2.0\n",
       "d    0.0\n",
       "e    0.0\n",
       "f    0.0\n",
       "dtype: float64"
      ]
     },
     "execution_count": 8,
     "metadata": {},
     "output_type": "execute_result"
    }
   ],
   "source": [
    "model.recommend_items(new_data)"
   ]
  }
 ],
 "metadata": {
  "kernelspec": {
   "display_name": "venv",
   "language": "python",
   "name": "python3"
  },
  "language_info": {
   "codemirror_mode": {
    "name": "ipython",
    "version": 3
   },
   "file_extension": ".py",
   "mimetype": "text/x-python",
   "name": "python",
   "nbconvert_exporter": "python",
   "pygments_lexer": "ipython3",
   "version": "3.10.11"
  }
 },
 "nbformat": 4,
 "nbformat_minor": 5
}
