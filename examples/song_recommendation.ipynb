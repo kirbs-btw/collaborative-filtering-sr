{
 "cells": [
  {
   "cell_type": "code",
   "execution_count": 2,
   "id": "e33fd3bd",
   "metadata": {},
   "outputs": [
    {
     "name": "stdout",
     "output_type": "stream",
     "text": [
      "User-Item Matrix:\n",
      "   a  b  c  d  e\n",
      "0  1  1  1  0  0\n",
      "1  1  1  0  0  0\n",
      "2  0  0  0  1  1\n",
      "\n",
      "Item-Item Similarity:\n",
      "          a         b         c    d    e\n",
      "a  1.000000  1.000000  0.707107  0.0  0.0\n",
      "b  1.000000  1.000000  0.707107  0.0  0.0\n",
      "c  0.707107  0.707107  1.000000  0.0  0.0\n",
      "d  0.000000  0.000000  0.000000  1.0  1.0\n",
      "e  0.000000  0.000000  0.000000  1.0  1.0\n",
      "\n",
      "Recommended items for User 1:\n",
      "c    1.414214\n",
      "d    0.000000\n",
      "e    0.000000\n",
      "dtype: float64\n"
     ]
    }
   ],
   "source": [
    "import pandas as pd\n",
    "from sklearn.metrics.pairwise import cosine_similarity\n",
    "from sklearn.preprocessing import MultiLabelBinarizer\n",
    "\n",
    "# Your data: each sublist is a user’s interacted items\n",
    "data = [\n",
    "    [\"a\", \"b\", \"c\"],  # User 0\n",
    "    [\"a\", \"b\"],       # User 1\n",
    "    [\"d\", \"e\"]        # User 2\n",
    "]\n",
    "\n",
    "# Create User-Item Matrix\n",
    "mlb = MultiLabelBinarizer()\n",
    "user_item_matrix = pd.DataFrame(mlb.fit_transform(data), columns=mlb.classes_)\n",
    "\n",
    "print(\"User-Item Matrix:\")\n",
    "print(user_item_matrix)\n",
    "\n",
    "# Compute Item-Item Similarity (cosine)\n",
    "item_similarity = pd.DataFrame(\n",
    "    cosine_similarity(user_item_matrix.T),\n",
    "    index=user_item_matrix.columns,\n",
    "    columns=user_item_matrix.columns\n",
    ")\n",
    "\n",
    "print(\"\\nItem-Item Similarity:\")\n",
    "print(item_similarity)\n",
    "\n",
    "# Recommend Items for a given user (e.g. User 1)\n",
    "user_id = 1\n",
    "user_vector = user_item_matrix.iloc[user_id]\n",
    "scores = item_similarity.dot(user_vector)\n",
    "scores = scores[~user_vector.astype(bool)]  # Remove already seen items\n",
    "\n",
    "recommended_items = scores.sort_values(ascending=False)\n",
    "print(f\"\\nRecommended items for User {user_id}:\")\n",
    "print(recommended_items)"
   ]
  }
 ],
 "metadata": {
  "kernelspec": {
   "display_name": "venv",
   "language": "python",
   "name": "python3"
  },
  "language_info": {
   "codemirror_mode": {
    "name": "ipython",
    "version": 3
   },
   "file_extension": ".py",
   "mimetype": "text/x-python",
   "name": "python",
   "nbconvert_exporter": "python",
   "pygments_lexer": "ipython3",
   "version": "3.10.11"
  }
 },
 "nbformat": 4,
 "nbformat_minor": 5
}
