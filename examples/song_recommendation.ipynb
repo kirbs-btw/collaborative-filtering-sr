{
 "cells": [
  {
   "cell_type": "code",
   "execution_count": 4,
   "id": "54fa8681",
   "metadata": {},
   "outputs": [],
   "source": [
    "import sys\n",
    "import os\n",
    "\n",
    "sys.path.append(os.path.abspath(\"..\"))\n",
    "\n",
    "from collab_filtering import Model"
   ]
  },
  {
   "cell_type": "code",
   "execution_count": 6,
   "id": "b289b13a",
   "metadata": {},
   "outputs": [],
   "source": [
    "exp_data = [\n",
    "    [\"a\", \"b\", \"c\"],\n",
    "    [\"d\", \"e\"],\n",
    "    [\"d\", \"e\", \"f\"]\n",
    "    ]\n",
    "\n",
    "new_data = [\"a\", \"b\"]\n",
    "\n",
    "model = Model(exp_data)"
   ]
  },
  {
   "cell_type": "code",
   "execution_count": null,
   "id": "20d77157",
   "metadata": {},
   "outputs": [
    {
     "name": "stderr",
     "output_type": "stream",
     "text": [
      "c:\\Users\\lipka\\HARD_DRIVE\\Projekte\\Projekte\\Project 146\\collaborative-filtering-sr\\collab_filtering\\utils.py:28: FutureWarning: Series.__getitem__ treating keys as positions is deprecated. In a future version, integer keys will always be treated as labels (consistent with DataFrame behavior). To access a value by position, use `ser.iloc[pos]`\n",
      "  return self.recommend_items(target_data)[0]\n"
     ]
    },
    {
     "data": {
      "text/plain": [
       "np.float64(2.0)"
      ]
     },
     "execution_count": 7,
     "metadata": {},
     "output_type": "execute_result"
    }
   ],
   "source": [
    "model.recommend_items(new_data)"
   ]
  },
  {
   "cell_type": "code",
   "execution_count": null,
   "id": "6f8c9608",
   "metadata": {},
   "outputs": [],
   "source": []
  }
 ],
 "metadata": {
  "kernelspec": {
   "display_name": "venv",
   "language": "python",
   "name": "python3"
  },
  "language_info": {
   "codemirror_mode": {
    "name": "ipython",
    "version": 3
   },
   "file_extension": ".py",
   "mimetype": "text/x-python",
   "name": "python",
   "nbconvert_exporter": "python",
   "pygments_lexer": "ipython3",
   "version": "3.10.11"
  }
 },
 "nbformat": 4,
 "nbformat_minor": 5
}
