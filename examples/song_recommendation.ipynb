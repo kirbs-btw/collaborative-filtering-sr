{
 "cells": [
  {
   "cell_type": "code",
   "execution_count": 6,
   "id": "54fa8681",
   "metadata": {},
   "outputs": [],
   "source": [
    "import sys\n",
    "import os\n",
    "import pandas as pd\n",
    "\n",
    "sys.path.append(os.path.abspath(\"..\"))\n",
    "\n",
    "from collab_filtering import Model"
   ]
  },
  {
   "cell_type": "code",
   "execution_count": 7,
   "id": "b289b13a",
   "metadata": {},
   "outputs": [],
   "source": [
    "exp_data = [\n",
    "    [\"a\", \"b\", \"c\"],\n",
    "    [\"d\", \"e\"],\n",
    "    [\"d\", \"e\", \"f\"]\n",
    "    ]\n",
    "\n",
    "new_data = [\"a\", \"b\"]\n",
    "\n",
    "model = Model(exp_data)"
   ]
  },
  {
   "cell_type": "code",
   "execution_count": null,
   "id": "03da39d0",
   "metadata": {},
   "outputs": [],
   "source": [
    "model.recommend_items(new_data)"
   ]
  },
  {
   "cell_type": "code",
   "execution_count": 4,
   "id": "39277160",
   "metadata": {},
   "outputs": [
    {
     "data": {
      "text/plain": [
       "'c'"
      ]
     },
     "execution_count": 4,
     "metadata": {},
     "output_type": "execute_result"
    }
   ],
   "source": [
    "model.recommend(new_data)"
   ]
  }
 ],
 "metadata": {
  "kernelspec": {
   "display_name": "venv",
   "language": "python",
   "name": "python3"
  },
  "language_info": {
   "codemirror_mode": {
    "name": "ipython",
    "version": 3
   },
   "file_extension": ".py",
   "mimetype": "text/x-python",
   "name": "python",
   "nbconvert_exporter": "python",
   "pygments_lexer": "ipython3",
   "version": "3.10.11"
  }
 },
 "nbformat": 4,
 "nbformat_minor": 5
}
